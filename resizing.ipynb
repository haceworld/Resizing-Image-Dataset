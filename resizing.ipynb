#Resizing the dataset to 224*224

from PIL import Image
import os

#Path location of the folder to resize

FILEPATH = 'C:/Users/PC/Desktop/image'

#files = os.listdir(FILEPATH+'/..') #list file
#Resizing images in 175 folders into 224*224

files = os.listdir(FILEPATH+'/1') #list file
for fname in files:
    img = Image.open(FILEPATH+'/1/'+fname)
    #img = img.convert('L')
    img = img.resize((224, 224),Image.ANTIALIAS)
    print(fname)
    img.save(FILEPATH+'/1/'+fname)
print('1 finish')

files = os.listdir(FILEPATH+'/2') #list file
for fname in files:
    img = Image.open(FILEPATH+'/2/'+fname)
    #img = img.convert('L')
    img = img.resize((224, 224),Image.ANTIALIAS)
    print(fname)
    img.save(FILEPATH+'/2/'+fname)
print('2 finish')

files = os.listdir(FILEPATH+'/3') #list file
for fname in files:
    img = Image.open(FILEPATH+'/3/'+fname)
    #img = img.convert('L')
    img = img.resize((224, 224),Image.ANTIALIAS)
    print(fname)
    img.save(FILEPATH+'/3/'+fname)
print('3 finish')

files = os.listdir(FILEPATH+'/4') #list file
for fname in files:
    img = Image.open(FILEPATH+'/4/'+fname)
    #img = img.convert('L')
    img = img.resize((224, 224),Image.ANTIALIAS)
    print(fname)
    img.save(FILEPATH+'/4/'+fname)
print('4 finish')

files = os.listdir(FILEPATH+'/5') #list file
for fname in files:
    img = Image.open(FILEPATH+'/5/'+fname)
    #img = img.convert('L')
    img = img.resize((224, 224),Image.ANTIALIAS)
    print(fname)
    img.save(FILEPATH+'/5/'+fname)
print('5 finish')


files = os.listdir(FILEPATH+'/6') #list file
for fname in files:
    img = Image.open(FILEPATH+'/6/'+fname)
    #img = img.convert('L')
    img = img.resize((224, 224),Image.ANTIALIAS)
    print(fname)
    img.save(FILEPATH+'/6/'+fname)
print('6 finish')

files = os.listdir(FILEPATH+'/7') #list file
for fname in files:
    img = Image.open(FILEPATH+'/7/'+fname)
    #img = img.convert('L')
    img = img.resize((224, 224),Image.ANTIALIAS)
    print(fname)
    img.save(FILEPATH+'/7/'+fname)
print('7 finish')

files = os.listdir(FILEPATH+'/8') #list file
for fname in files:
    img = Image.open(FILEPATH+'/8/'+fname)
    #img = img.convert('L')
    img = img.resize((224, 224),Image.ANTIALIAS)
    print(fname)
    img.save(FILEPATH+'/8/'+fname)
print('8 finish')

files = os.listdir(FILEPATH+'/9') #list file
for fname in files:
    img = Image.open(FILEPATH+'/9/'+fname)
    #img = img.convert('L')
    img = img.resize((224, 224),Image.ANTIALIAS)
    print(fname)
    img.save(FILEPATH+'/9/'+fname)
print('9 finish')


files = os.listdir(FILEPATH+'/10') #list file
for fname in files:
    img = Image.open(FILEPATH+'/10/'+fname)
    #img = img.convert('L')
    img = img.resize((224, 224),Image.ANTIALIAS)
    print(fname)
    img.save(FILEPATH+'/10/'+fname)
print('10 finish')


files = os.listdir(FILEPATH+'/11') #list file
for fname in files:
    img = Image.open(FILEPATH+'/11/'+fname)
    #img = img.convert('L')
    img = img.resize((224, 224),Image.ANTIALIAS)
    print(fname)
    img.save(FILEPATH+'/11/'+fname)
print('11 finish')


files = os.listdir(FILEPATH+'/12') #list file
for fname in files:
    img = Image.open(FILEPATH+'/12/'+fname)
    #img = img.convert('L')
    img = img.resize((224, 224),Image.ANTIALIAS)
    print(fname)
    img.save(FILEPATH+'/12/'+fname)
print('12 finish')


files = os.listdir(FILEPATH+'/13') #list file
for fname in files:
    img = Image.open(FILEPATH+'/13/'+fname)
    #img = img.convert('L')
    img = img.resize((224, 224),Image.ANTIALIAS)
    print(fname)
    img.save(FILEPATH+'/13/'+fname)
print('13 finish')


files = os.listdir(FILEPATH+'/14') #list file
for fname in files:
    img = Image.open(FILEPATH+'/14/'+fname)
    #img = img.convert('L')
    img = img.resize((224, 224),Image.ANTIALIAS)
    print(fname)
    img.save(FILEPATH+'/14/'+fname)
print('14 finish')


files = os.listdir(FILEPATH+'/15') #list file
for fname in files:
    img = Image.open(FILEPATH+'/15/'+fname)
    #img = img.convert('L')
    img = img.resize((224, 224),Image.ANTIALIAS)
    print(fname)
    img.save(FILEPATH+'/15/'+fname)
print('15 finish')

files = os.listdir(FILEPATH+'/16') #list file
for fname in files:
    img = Image.open(FILEPATH+'/16/'+fname)
    #img = img.convert('L')
    img = img.resize((224, 224),Image.ANTIALIAS)
    print(fname)
    img.save(FILEPATH+'/16/'+fname)
print('16 finish')

files = os.listdir(FILEPATH+'/17') #list file
for fname in files:
    img = Image.open(FILEPATH+'/17/'+fname)
    #img = img.convert('L')
    img = img.resize((224, 224),Image.ANTIALIAS)
    print(fname)
    img.save(FILEPATH+'/17/'+fname)
print('17 finish')

files = os.listdir(FILEPATH+'/18') #list file
for fname in files:
    img = Image.open(FILEPATH+'/18/'+fname)
    #img = img.convert('L')
    img = img.resize((224, 224),Image.ANTIALIAS)
    print(fname)
    img.save(FILEPATH+'/18/'+fname)
print('18 finish')


files = os.listdir(FILEPATH+'/19') #list file
for fname in files:
    img = Image.open(FILEPATH+'/19/'+fname)
    #img = img.convert('L')
    img = img.resize((224, 224),Image.ANTIALIAS)
    print(fname)
    img.save(FILEPATH+'/19/'+fname)
print('19 finish')

files = os.listdir(FILEPATH+'/20') #list file
for fname in files:
    img = Image.open(FILEPATH+'/20/'+fname)
    #img = img.convert('L')
    img = img.resize((224, 224),Image.ANTIALIAS)
    print(fname)
    img.save(FILEPATH+'/20/'+fname)
print('20 finish')

files = os.listdir(FILEPATH+'/21') #list file
for fname in files:
    img = Image.open(FILEPATH+'/21/'+fname)
    #img = img.convert('L')
    img = img.resize((224, 224),Image.ANTIALIAS)
    print(fname)
    img.save(FILEPATH+'/21/'+fname)
print('21 finish')

files = os.listdir(FILEPATH+'/22') #list file
for fname in files:
    img = Image.open(FILEPATH+'/22/'+fname)
    #img = img.convert('L')
    img = img.resize((224, 224),Image.ANTIALIAS)
    print(fname)
    img.save(FILEPATH+'/22/'+fname)
print('22 finish')

files = os.listdir(FILEPATH+'/23') #list file
for fname in files:
    img = Image.open(FILEPATH+'/23/'+fname)
    #img = img.convert('L')
    img = img.resize((224, 224),Image.ANTIALIAS)
    print(fname)
    img.save(FILEPATH+'/23/'+fname)
print('23 finish')

files = os.listdir(FILEPATH+'/24') #list file
for fname in files:
    img = Image.open(FILEPATH+'/24/'+fname)
    #img = img.convert('L')
    img = img.resize((224, 224),Image.ANTIALIAS)
    print(fname)
    img.save(FILEPATH+'/24/'+fname)
print('24 finish')

files = os.listdir(FILEPATH+'/25') #list file
for fname in files:
    img = Image.open(FILEPATH+'/25/'+fname)
    #img = img.convert('L')
    img = img.resize((224, 224),Image.ANTIALIAS)
    print(fname)
    img.save(FILEPATH+'/25/'+fname)
print('25 finish')

files = os.listdir(FILEPATH+'/26') #list file
for fname in files:
    img = Image.open(FILEPATH+'/26/'+fname)
    #img = img.convert('L')
    img = img.resize((224, 224),Image.ANTIALIAS)
    print(fname)
    img.save(FILEPATH+'/26/'+fname)
print('26 finish')

files = os.listdir(FILEPATH+'/27') #list file
for fname in files:
    img = Image.open(FILEPATH+'/27/'+fname)
    #img = img.convert('L')
    img = img.resize((224, 224),Image.ANTIALIAS)
    print(fname)
    img.save(FILEPATH+'/27/'+fname)
print('27 finish')

files = os.listdir(FILEPATH+'/28') #list file
for fname in files:
    img = Image.open(FILEPATH+'/28/'+fname)
    #img = img.convert('L')
    img = img.resize((224, 224),Image.ANTIALIAS)
    print(fname)
    img.save(FILEPATH+'/28/'+fname)
print('28 finish')

files = os.listdir(FILEPATH+'/29') #list file
for fname in files:
    img = Image.open(FILEPATH+'/29/'+fname)
    #img = img.convert('L')
    img = img.resize((224, 224),Image.ANTIALIAS)
    print(fname)
    img.save(FILEPATH+'/29/'+fname)
print('29 finish')

files = os.listdir(FILEPATH+'/30') #list file
for fname in files:
    img = Image.open(FILEPATH+'/30/'+fname)
    #img = img.convert('L')
    img = img.resize((224, 224),Image.ANTIALIAS)
    print(fname)
    img.save(FILEPATH+'/30/'+fname)
print('30 finish')

files = os.listdir(FILEPATH+'/31') #list file
for fname in files:
    img = Image.open(FILEPATH+'/31/'+fname)
    #img = img.convert('L')
    img = img.resize((224, 224),Image.ANTIALIAS)
    print(fname)
    img.save(FILEPATH+'/31/'+fname)
print('31 finish')


files = os.listdir(FILEPATH+'/32') #list file
for fname in files:
    img = Image.open(FILEPATH+'/32/'+fname)
    #img = img.convert('L')
    img = img.resize((224, 224),Image.ANTIALIAS)
    print(fname)
    img.save(FILEPATH+'/32/'+fname)
print('32 finish')

files = os.listdir(FILEPATH+'/33') #list file
for fname in files:
    img = Image.open(FILEPATH+'/33/'+fname)
    #img = img.convert('L')
    img = img.resize((224, 224),Image.ANTIALIAS)
    print(fname)
    img.save(FILEPATH+'/33/'+fname)
print('33 finish')

files = os.listdir(FILEPATH+'/34') #list file
for fname in files:
    img = Image.open(FILEPATH+'/34/'+fname)
    #img = img.convert('L')
    img = img.resize((224, 224),Image.ANTIALIAS)
    print(fname)
    img.save(FILEPATH+'/34/'+fname)
print('34 finish')


files = os.listdir(FILEPATH+'/35') #list file
for fname in files:
    img = Image.open(FILEPATH+'/35/'+fname)
    #img = img.convert('L')
    img = img.resize((224, 224),Image.ANTIALIAS)
    print(fname)
    img.save(FILEPATH+'/35/'+fname)
print('35 finish')

files = os.listdir(FILEPATH+'/36') #list file
for fname in files:
    img = Image.open(FILEPATH+'/36/'+fname)
    #img = img.convert('L')
    img = img.resize((224, 224),Image.ANTIALIAS)
    print(fname)
    img.save(FILEPATH+'/36/'+fname)
print('36 finish')

files = os.listdir(FILEPATH+'/37') #list file
for fname in files:
    img = Image.open(FILEPATH+'/37/'+fname)
    #img = img.convert('L')
    img = img.resize((224, 224),Image.ANTIALIAS)
    print(fname)
    img.save(FILEPATH+'/37/'+fname)
print('37 finish')

files = os.listdir(FILEPATH+'/38') #list file
for fname in files:
    img = Image.open(FILEPATH+'/38/'+fname)
    #img = img.convert('L')
    img = img.resize((224, 224),Image.ANTIALIAS)
    print(fname)
    img.save(FILEPATH+'/38/'+fname)
print('38 finish')


files = os.listdir(FILEPATH+'/39') #list file
for fname in files:
    img = Image.open(FILEPATH+'/39/'+fname)
    #img = img.convert('L')
    img = img.resize((224, 224),Image.ANTIALIAS)
    print(fname)
    img.save(FILEPATH+'/39/'+fname)
print('39 finish')

files = os.listdir(FILEPATH+'/40') #list file
for fname in files:
    img = Image.open(FILEPATH+'/40/'+fname)
    #img = img.convert('L')
    img = img.resize((224, 224),Image.ANTIALIAS)
    print(fname)
    img.save(FILEPATH+'/40/'+fname)
print('40 finish')

files = os.listdir(FILEPATH+'/41') #list file
for fname in files:
    img = Image.open(FILEPATH+'/41/'+fname)
    #img = img.convert('L')
    img = img.resize((224, 224),Image.ANTIALIAS)
    print(fname)
    img.save(FILEPATH+'/41/'+fname)
print('41 finish')

files = os.listdir(FILEPATH+'/42') #list file
for fname in files:
    img = Image.open(FILEPATH+'/42/'+fname)
    #img = img.convert('L')
    img = img.resize((224, 224),Image.ANTIALIAS)
    print(fname)
    img.save(FILEPATH+'/42/'+fname)
print('42 finish')

files = os.listdir(FILEPATH+'/43') #list file
for fname in files:
    img = Image.open(FILEPATH+'/43/'+fname)
    #img = img.convert('L')
    img = img.resize((224, 224),Image.ANTIALIAS)
    print(fname)
    img.save(FILEPATH+'/43/'+fname)
print('43 finish')

files = os.listdir(FILEPATH+'/44') #list file
for fname in files:
    img = Image.open(FILEPATH+'/44/'+fname)
    #img = img.convert('L')
    img = img.resize((224, 224),Image.ANTIALIAS)
    print(fname)
    img.save(FILEPATH+'/44/'+fname)
print('44 finish')

files = os.listdir(FILEPATH+'/45') #list file
for fname in files:
    img = Image.open(FILEPATH+'/45/'+fname)
    #img = img.convert('L')
    img = img.resize((224, 224),Image.ANTIALIAS)
    print(fname)
    img.save(FILEPATH+'/45/'+fname)
print('45 finish')

files = os.listdir(FILEPATH+'/46') #list file
for fname in files:
    img = Image.open(FILEPATH+'/46/'+fname)
    #img = img.convert('L')
    img = img.resize((224, 224),Image.ANTIALIAS)
    print(fname)
    img.save(FILEPATH+'/46/'+fname)
print('46 finish')

files = os.listdir(FILEPATH+'/47') #list file
for fname in files:
    img = Image.open(FILEPATH+'/47/'+fname)
    #img = img.convert('L')
    img = img.resize((224, 224),Image.ANTIALIAS)
    print(fname)
    img.save(FILEPATH+'/47/'+fname)
print('47 finish')

files = os.listdir(FILEPATH+'/48') #list file
for fname in files:
    img = Image.open(FILEPATH+'/48/'+fname)
    #img = img.convert('L')
    img = img.resize((224, 224),Image.ANTIALIAS)
    print(fname)
    img.save(FILEPATH+'/48/'+fname)
print('48 finish')

files = os.listdir(FILEPATH+'/49') #list file
for fname in files:
    img = Image.open(FILEPATH+'/49/'+fname)
    #img = img.convert('L')
    img = img.resize((224, 224),Image.ANTIALIAS)
    print(fname)
    img.save(FILEPATH+'/49/'+fname)
print('49 finish')

files = os.listdir(FILEPATH+'/50') #list file
for fname in files:
    img = Image.open(FILEPATH+'/50/'+fname)
    #img = img.convert('L')
    img = img.resize((224, 224),Image.ANTIALIAS)
    print(fname)
    img.save(FILEPATH+'/50/'+fname)
print('50 finish')

files = os.listdir(FILEPATH+'/51') #list file
for fname in files:
    img = Image.open(FILEPATH+'/51/'+fname)
    #img = img.convert('L')
    img = img.resize((224, 224),Image.ANTIALIAS)
    print(fname)
    img.save(FILEPATH+'/51/'+fname)
print('51 finish')


files = os.listdir(FILEPATH+'/52') #list file
for fname in files:
    img = Image.open(FILEPATH+'/52/'+fname)
    #img = img.convert('L')
    img = img.resize((224, 224),Image.ANTIALIAS)
    print(fname)
    img.save(FILEPATH+'/52/'+fname)
print('52 finish')

files = os.listdir(FILEPATH+'/53') #list file
for fname in files:
    img = Image.open(FILEPATH+'/53/'+fname)
    #img = img.convert('L')
    img = img.resize((224, 224),Image.ANTIALIAS)
    print(fname)
    img.save(FILEPATH+'/53/'+fname)
print('53 finish')

files = os.listdir(FILEPATH+'/54') #list file
for fname in files:
    img = Image.open(FILEPATH+'/54/'+fname)
    #img = img.convert('L')
    img = img.resize((224, 224),Image.ANTIALIAS)
    print(fname)
    img.save(FILEPATH+'/54/'+fname)
print('54 finish')


files = os.listdir(FILEPATH+'/55') #list file
for fname in files:
    img = Image.open(FILEPATH+'/55/'+fname)
    #img = img.convert('L')
    img = img.resize((224, 224),Image.ANTIALIAS)
    print(fname)
    img.save(FILEPATH+'/55/'+fname)
print('55 finish')

files = os.listdir(FILEPATH+'/56') #list file
for fname in files:
    img = Image.open(FILEPATH+'/56/'+fname)
    #img = img.convert('L')
    img = img.resize((224, 224),Image.ANTIALIAS)
    print(fname)
    img.save(FILEPATH+'/56/'+fname)
print('56 finish')

files = os.listdir(FILEPATH+'/57') #list file
for fname in files:
    img = Image.open(FILEPATH+'/57/'+fname)
    #img = img.convert('L')
    img = img.resize((224, 224),Image.ANTIALIAS)
    print(fname)
    img.save(FILEPATH+'/57/'+fname)
print('57 finish')

files = os.listdir(FILEPATH+'/58') #list file
for fname in files:
    img = Image.open(FILEPATH+'/58/'+fname)
    #img = img.convert('L')
    img = img.resize((224, 224),Image.ANTIALIAS)
    print(fname)
    img.save(FILEPATH+'/58/'+fname)
print('58 finish')


files = os.listdir(FILEPATH+'/59') #list file
for fname in files:
    img = Image.open(FILEPATH+'/59/'+fname)
    #img = img.convert('L')
    img = img.resize((224, 224),Image.ANTIALIAS)
    print(fname)
    img.save(FILEPATH+'/59/'+fname)
print('59 finish')

files = os.listdir(FILEPATH+'/60') #list file
for fname in files:
    img = Image.open(FILEPATH+'/60/'+fname)
    #img = img.convert('L')
    img = img.resize((224, 224),Image.ANTIALIAS)
    print(fname)
    img.save(FILEPATH+'/60/'+fname)
print('60 finish')

files = os.listdir(FILEPATH+'/61') #list file
for fname in files:
    img = Image.open(FILEPATH+'/61/'+fname)
    #img = img.convert('L')
    img = img.resize((224, 224),Image.ANTIALIAS)
    print(fname)
    img.save(FILEPATH+'/61/'+fname)
print('61 finish')

files = os.listdir(FILEPATH+'/62') #list file
for fname in files:
    img = Image.open(FILEPATH+'/62/'+fname)
    #img = img.convert('L')
    img = img.resize((224, 224),Image.ANTIALIAS)
    print(fname)
    img.save(FILEPATH+'/62/'+fname)
print('62 finish')

files = os.listdir(FILEPATH+'/63') #list file
for fname in files:
    img = Image.open(FILEPATH+'/63/'+fname)
    #img = img.convert('L')
    img = img.resize((224, 224),Image.ANTIALIAS)
    print(fname)
    img.save(FILEPATH+'/63/'+fname)
print('63 finish')

files = os.listdir(FILEPATH+'/64') #list file
for fname in files:
    img = Image.open(FILEPATH+'/64/'+fname)
    #img = img.convert('L')
    img = img.resize((224, 224),Image.ANTIALIAS)
    print(fname)
    img.save(FILEPATH+'/64/'+fname)
print('64 finish')

files = os.listdir(FILEPATH+'/65') #list file
for fname in files:
    img = Image.open(FILEPATH+'/65/'+fname)
    #img = img.convert('L')
    img = img.resize((224, 224),Image.ANTIALIAS)
    print(fname)
    img.save(FILEPATH+'/65/'+fname)
print('65 finish')

files = os.listdir(FILEPATH+'/66') #list file
for fname in files:
    img = Image.open(FILEPATH+'/66/'+fname)
    #img = img.convert('L')
    img = img.resize((224, 224),Image.ANTIALIAS)
    print(fname)
    img.save(FILEPATH+'/66/'+fname)
print('66 finish')

files = os.listdir(FILEPATH+'/67') #list file
for fname in files:
    img = Image.open(FILEPATH+'/67/'+fname)
    #img = img.convert('L')
    img = img.resize((224, 224),Image.ANTIALIAS)
    print(fname)
    img.save(FILEPATH+'/67/'+fname)
print('67 finish')

files = os.listdir(FILEPATH+'/68') #list file
for fname in files:
    img = Image.open(FILEPATH+'/68/'+fname)
    #img = img.convert('L')
    img = img.resize((224, 224),Image.ANTIALIAS)
    print(fname)
    img.save(FILEPATH+'/68/'+fname)
print('68 finish')

files = os.listdir(FILEPATH+'/69') #list file
for fname in files:
    img = Image.open(FILEPATH+'/69/'+fname)
    #img = img.convert('L')
    img = img.resize((224, 224),Image.ANTIALIAS)
    print(fname)
    img.save(FILEPATH+'/69/'+fname)
print('69 finish')

files = os.listdir(FILEPATH+'/70') #list file
for fname in files:
    img = Image.open(FILEPATH+'/70/'+fname)
    #img = img.convert('L')
    img = img.resize((224, 224),Image.ANTIALIAS)
    print(fname)
    img.save(FILEPATH+'/70/'+fname)
print('70 finish')

files = os.listdir(FILEPATH+'/71') #list file
for fname in files:
    img = Image.open(FILEPATH+'/71/'+fname)
    #img = img.convert('L')
    img = img.resize((224, 224),Image.ANTIALIAS)
    print(fname)
    img.save(FILEPATH+'/71/'+fname)
print('71 finish')


files = os.listdir(FILEPATH+'/72') #list file
for fname in files:
    img = Image.open(FILEPATH+'/72/'+fname)
    #img = img.convert('L')
    img = img.resize((224, 224),Image.ANTIALIAS)
    print(fname)
    img.save(FILEPATH+'/72/'+fname)
print('72 finish')

files = os.listdir(FILEPATH+'/73') #list file
for fname in files:
    img = Image.open(FILEPATH+'/73/'+fname)
    #img = img.convert('L')
    img = img.resize((224, 224),Image.ANTIALIAS)
    print(fname)
    img.save(FILEPATH+'/73/'+fname)
print('73 finish')

files = os.listdir(FILEPATH+'/74') #list file
for fname in files:
    img = Image.open(FILEPATH+'/74/'+fname)
    #img = img.convert('L')
    img = img.resize((224, 224),Image.ANTIALIAS)
    print(fname)
    img.save(FILEPATH+'/74/'+fname)
print('74 finish')


files = os.listdir(FILEPATH+'/75') #list file
for fname in files:
    img = Image.open(FILEPATH+'/75/'+fname)
    #img = img.convert('L')
    img = img.resize((224, 224),Image.ANTIALIAS)
    print(fname)
    img.save(FILEPATH+'/75/'+fname)
print('75 finish')

files = os.listdir(FILEPATH+'/76') #list file
for fname in files:
    img = Image.open(FILEPATH+'/76/'+fname)
    #img = img.convert('L')
    img = img.resize((224, 224),Image.ANTIALIAS)
    print(fname)
    img.save(FILEPATH+'/76/'+fname)
print('76 finish')

files = os.listdir(FILEPATH+'/77') #list file
for fname in files:
    img = Image.open(FILEPATH+'/77/'+fname)
    #img = img.convert('L')
    img = img.resize((224, 224),Image.ANTIALIAS)
    print(fname)
    img.save(FILEPATH+'/77/'+fname)
print('77 finish')

files = os.listdir(FILEPATH+'/78') #list file
for fname in files:
    img = Image.open(FILEPATH+'/78/'+fname)
    #img = img.convert('L')
    img = img.resize((224, 224),Image.ANTIALIAS)
    print(fname)
    img.save(FILEPATH+'/78/'+fname)
print('78 finish')


files = os.listdir(FILEPATH+'/79') #list file
for fname in files:
    img = Image.open(FILEPATH+'/79/'+fname)
    #img = img.convert('L')
    img = img.resize((224, 224),Image.ANTIALIAS)
    print(fname)
    img.save(FILEPATH+'/79/'+fname)
print('79 finish')

files = os.listdir(FILEPATH+'/80') #list file
for fname in files:
    img = Image.open(FILEPATH+'/80/'+fname)
    #img = img.convert('L')
    img = img.resize((224, 224),Image.ANTIALIAS)
    print(fname)
    img.save(FILEPATH+'/80/'+fname)
print('80 finish')


files = os.listdir(FILEPATH+'/81') #list file
for fname in files:
    img = Image.open(FILEPATH+'/81/'+fname)
    #img = img.convert('L')
    img = img.resize((224, 224),Image.ANTIALIAS)
    print(fname)
    img.save(FILEPATH+'/81/'+fname)
print('81 finish')

files = os.listdir(FILEPATH+'/82') #list file
for fname in files:
    img = Image.open(FILEPATH+'/82/'+fname)
    #img = img.convert('L')
    img = img.resize((224, 224),Image.ANTIALIAS)
    print(fname)
    img.save(FILEPATH+'/82/'+fname)
print('82 finish')

files = os.listdir(FILEPATH+'/83') #list file
for fname in files:
    img = Image.open(FILEPATH+'/83/'+fname)
    #img = img.convert('L')
    img = img.resize((224, 224),Image.ANTIALIAS)
    print(fname)
    img.save(FILEPATH+'/83/'+fname)
print('83 finish')

files = os.listdir(FILEPATH+'/84') #list file
for fname in files:
    img = Image.open(FILEPATH+'/84/'+fname)
    #img = img.convert('L')
    img = img.resize((224, 224),Image.ANTIALIAS)
    print(fname)
    img.save(FILEPATH+'/84/'+fname)
print('84 finish')

files = os.listdir(FILEPATH+'/85') #list file
for fname in files:
    img = Image.open(FILEPATH+'/85/'+fname)
    #img = img.convert('L')
    img = img.resize((224, 224),Image.ANTIALIAS)
    print(fname)
    img.save(FILEPATH+'/85/'+fname)
print('85 finish')

files = os.listdir(FILEPATH+'/86') #list file
for fname in files:
    img = Image.open(FILEPATH+'/86/'+fname)
    #img = img.convert('L')
    img = img.resize((224, 224),Image.ANTIALIAS)
    print(fname)
    img.save(FILEPATH+'/86/'+fname)
print('86 finish')

files = os.listdir(FILEPATH+'/87') #list file
for fname in files:
    img = Image.open(FILEPATH+'/87/'+fname)
    #img = img.convert('L')
    img = img.resize((224, 224),Image.ANTIALIAS)
    print(fname)
    img.save(FILEPATH+'/87/'+fname)
print('87 finish')

files = os.listdir(FILEPATH+'/88') #list file
for fname in files:
    img = Image.open(FILEPATH+'/88/'+fname)
    #img = img.convert('L')
    img = img.resize((224, 224),Image.ANTIALIAS)
    print(fname)
    img.save(FILEPATH+'/88/'+fname)
print('88 finish')

files = os.listdir(FILEPATH+'/89') #list file
for fname in files:
    img = Image.open(FILEPATH+'/89/'+fname)
    #img = img.convert('L')
    img = img.resize((224, 224),Image.ANTIALIAS)
    print(fname)
    img.save(FILEPATH+'/89/'+fname)
print('89 finish')

files = os.listdir(FILEPATH+'/90') #list file
for fname in files:
    img = Image.open(FILEPATH+'/90/'+fname)
    #img = img.convert('L')
    img = img.resize((224, 224),Image.ANTIALIAS)
    print(fname)
    img.save(FILEPATH+'/90/'+fname)
print('90 finish')

files = os.listdir(FILEPATH+'/91') #list file
for fname in files:
    img = Image.open(FILEPATH+'/91/'+fname)
    #img = img.convert('L')
    img = img.resize((224, 224),Image.ANTIALIAS)
    print(fname)
    img.save(FILEPATH+'/91/'+fname)
print('91 finish')


files = os.listdir(FILEPATH+'/92') #list file
for fname in files:
    img = Image.open(FILEPATH+'/92/'+fname)
    #img = img.convert('L')
    img = img.resize((224, 224),Image.ANTIALIAS)
    print(fname)
    img.save(FILEPATH+'/92/'+fname)
print('92 finish')

files = os.listdir(FILEPATH+'/93') #list file
for fname in files:
    img = Image.open(FILEPATH+'/93/'+fname)
    #img = img.convert('L')
    img = img.resize((224, 224),Image.ANTIALIAS)
    print(fname)
    img.save(FILEPATH+'/93/'+fname)
print('93 finish')

files = os.listdir(FILEPATH+'/94') #list file
for fname in files:
    img = Image.open(FILEPATH+'/94/'+fname)
    #img = img.convert('L')
    img = img.resize((224, 224),Image.ANTIALIAS)
    print(fname)
    img.save(FILEPATH+'/94/'+fname)
print('94 finish')


files = os.listdir(FILEPATH+'/95') #list file
for fname in files:
    img = Image.open(FILEPATH+'/95/'+fname)
    #img = img.convert('L')
    img = img.resize((224, 224),Image.ANTIALIAS)
    print(fname)
    img.save(FILEPATH+'/95/'+fname)
print('95 finish')

files = os.listdir(FILEPATH+'/96') #list file
for fname in files:
    img = Image.open(FILEPATH+'/96/'+fname)
    #img = img.convert('L')
    img = img.resize((224, 224),Image.ANTIALIAS)
    print(fname)
    img.save(FILEPATH+'/96/'+fname)
print('96 finish')

files = os.listdir(FILEPATH+'/97') #list file
for fname in files:
    img = Image.open(FILEPATH+'/97/'+fname)
    #img = img.convert('L')
    img = img.resize((224, 224),Image.ANTIALIAS)
    print(fname)
    img.save(FILEPATH+'/97/'+fname)
print('97 finish')

files = os.listdir(FILEPATH+'/98') #list file
for fname in files:
    img = Image.open(FILEPATH+'/98/'+fname)
    #img = img.convert('L')
    img = img.resize((224, 224),Image.ANTIALIAS)
    print(fname)
    img.save(FILEPATH+'/98/'+fname)
print('98 finish')


files = os.listdir(FILEPATH+'/99') #list file
for fname in files:
    img = Image.open(FILEPATH+'/99/'+fname)
    #img = img.convert('L')
    img = img.resize((224, 224),Image.ANTIALIAS)
    print(fname)
    img.save(FILEPATH+'/99/'+fname)
print('99 finish')

files = os.listdir(FILEPATH+'/100') #list file
for fname in files:
    img = Image.open(FILEPATH+'/100/'+fname)
    #img = img.convert('L')
    img = img.resize((224, 224),Image.ANTIALIAS)
    print(fname)
    img.save(FILEPATH+'/100/'+fname)
print('100 finish')

files = os.listdir(FILEPATH+'/101') #list file
for fname in files:
    img = Image.open(FILEPATH+'/101/'+fname)
    #img = img.convert('L')
    img = img.resize((224, 224),Image.ANTIALIAS)
    print(fname)
    img.save(FILEPATH+'/101/'+fname)
print('101 finish')

files = os.listdir(FILEPATH+'/102') #list file
for fname in files:
    img = Image.open(FILEPATH+'/102/'+fname)
    #img = img.convert('L')
    img = img.resize((224, 224),Image.ANTIALIAS)
    print(fname)
    img.save(FILEPATH+'/102/'+fname)
print('102 finish')

files = os.listdir(FILEPATH+'/103') #list file
for fname in files:
    img = Image.open(FILEPATH+'/103/'+fname)
    #img = img.convert('L')
    img = img.resize((224, 224),Image.ANTIALIAS)
    print(fname)
    img.save(FILEPATH+'/103/'+fname)
print('103 finish')

files = os.listdir(FILEPATH+'/104') #list file
for fname in files:
    img = Image.open(FILEPATH+'/104/'+fname)
    #img = img.convert('L')
    img = img.resize((224, 224),Image.ANTIALIAS)
    print(fname)
    img.save(FILEPATH+'/104/'+fname)
print('104 finish')

files = os.listdir(FILEPATH+'/105') #list file
for fname in files:
    img = Image.open(FILEPATH+'/105/'+fname)
    #img = img.convert('L')
    img = img.resize((224, 224),Image.ANTIALIAS)
    print(fname)
    img.save(FILEPATH+'/105/'+fname)
print('105 finish')

files = os.listdir(FILEPATH+'/106') #list file
for fname in files:
    img = Image.open(FILEPATH+'/106/'+fname)
    #img = img.convert('L')
    img = img.resize((224, 224),Image.ANTIALIAS)
    print(fname)
    img.save(FILEPATH+'/106/'+fname)
print('106 finish')

files = os.listdir(FILEPATH+'/107') #list file
for fname in files:
    img = Image.open(FILEPATH+'/107/'+fname)
    #img = img.convert('L')
    img = img.resize((224, 224),Image.ANTIALIAS)
    print(fname)
    img.save(FILEPATH+'/107/'+fname)
print('107 finish')

files = os.listdir(FILEPATH+'/108') #list file
for fname in files:
    img = Image.open(FILEPATH+'/108/'+fname)
    #img = img.convert('L')
    img = img.resize((224, 224),Image.ANTIALIAS)
    print(fname)
    img.save(FILEPATH+'/108/'+fname)
print('108 finish')

files = os.listdir(FILEPATH+'/109') #list file
for fname in files:
    img = Image.open(FILEPATH+'/109/'+fname)
    #img = img.convert('L')
    img = img.resize((224, 224),Image.ANTIALIAS)
    print(fname)
    img.save(FILEPATH+'/109/'+fname)
print('109 finish')

files = os.listdir(FILEPATH+'/110') #list file
for fname in files:
    img = Image.open(FILEPATH+'/110/'+fname)
    #img = img.convert('L')
    img = img.resize((224, 224),Image.ANTIALIAS)
    print(fname)
    img.save(FILEPATH+'/110/'+fname)
print('110 finish')

files = os.listdir(FILEPATH+'/111') #list file
for fname in files:
    img = Image.open(FILEPATH+'/111/'+fname)
    #img = img.convert('L')
    img = img.resize((224, 224),Image.ANTIALIAS)
    print(fname)
    img.save(FILEPATH+'/111/'+fname)
print('111 finish')


files = os.listdir(FILEPATH+'/112') #list file
for fname in files:
    img = Image.open(FILEPATH+'/112/'+fname)
    #img = img.convert('L')
    img = img.resize((224, 224),Image.ANTIALIAS)
    print(fname)
    img.save(FILEPATH+'/112/'+fname)
print('112 finish')

files = os.listdir(FILEPATH+'/113') #list file
for fname in files:
    img = Image.open(FILEPATH+'/113/'+fname)
    #img = img.convert('L')
    img = img.resize((224, 224),Image.ANTIALIAS)
    print(fname)
    img.save(FILEPATH+'/113/'+fname)
print('113 finish')

files = os.listdir(FILEPATH+'/114') #list file
for fname in files:
    img = Image.open(FILEPATH+'/114/'+fname)
    #img = img.convert('L')
    img = img.resize((224, 224),Image.ANTIALIAS)
    print(fname)
    img.save(FILEPATH+'/114/'+fname)
print('114 finish')


files = os.listdir(FILEPATH+'/115') #list file
for fname in files:
    img = Image.open(FILEPATH+'/115/'+fname)
    #img = img.convert('L')
    img = img.resize((224, 224),Image.ANTIALIAS)
    print(fname)
    img.save(FILEPATH+'/115/'+fname)
print('115 finish')

files = os.listdir(FILEPATH+'/116') #list file
for fname in files:
    img = Image.open(FILEPATH+'/116/'+fname)
    #img = img.convert('L')
    img = img.resize((224, 224),Image.ANTIALIAS)
    print(fname)
    img.save(FILEPATH+'/116/'+fname)
print('116 finish')

files = os.listdir(FILEPATH+'/117') #list file
for fname in files:
    img = Image.open(FILEPATH+'/117/'+fname)
    #img = img.convert('L')
    img = img.resize((224, 224),Image.ANTIALIAS)
    print(fname)
    img.save(FILEPATH+'/117/'+fname)
print('117 finish')

files = os.listdir(FILEPATH+'/118') #list file
for fname in files:
    img = Image.open(FILEPATH+'/118/'+fname)
    #img = img.convert('L')
    img = img.resize((224, 224),Image.ANTIALIAS)
    print(fname)
    img.save(FILEPATH+'/118/'+fname)
print('118 finish')


files = os.listdir(FILEPATH+'/119') #list file
for fname in files:
    img = Image.open(FILEPATH+'/119/'+fname)
    #img = img.convert('L')
    img = img.resize((224, 224),Image.ANTIALIAS)
    print(fname)
    img.save(FILEPATH+'/119/'+fname)
print('119 finish')

files = os.listdir(FILEPATH+'/120') #list file
for fname in files:
    img = Image.open(FILEPATH+'/120/'+fname)
    #img = img.convert('L')
    img = img.resize((224, 224),Image.ANTIALIAS)
    print(fname)
    img.save(FILEPATH+'/120/'+fname)
print('120 finish')

files = os.listdir(FILEPATH+'/121') #list file
for fname in files:
    img = Image.open(FILEPATH+'/121/'+fname)
    #img = img.convert('L')
    img = img.resize((224, 224),Image.ANTIALIAS)
    print(fname)
    img.save(FILEPATH+'/121/'+fname)
print('121 finish')

files = os.listdir(FILEPATH+'/122') #list file
for fname in files:
    img = Image.open(FILEPATH+'/122/'+fname)
    #img = img.convert('L')
    img = img.resize((224, 224),Image.ANTIALIAS)
    print(fname)
    img.save(FILEPATH+'/122/'+fname)
print('122 finish')

files = os.listdir(FILEPATH+'/123') #list file
for fname in files:
    img = Image.open(FILEPATH+'/123/'+fname)
    #img = img.convert('L')
    img = img.resize((224, 224),Image.ANTIALIAS)
    print(fname)
    img.save(FILEPATH+'/123/'+fname)
print('123 finish')

files = os.listdir(FILEPATH+'/124') #list file
for fname in files:
    img = Image.open(FILEPATH+'/124/'+fname)
    #img = img.convert('L')
    img = img.resize((224, 224),Image.ANTIALIAS)
    print(fname)
    img.save(FILEPATH+'/124/'+fname)
print('124 finish')

files = os.listdir(FILEPATH+'/125') #list file
for fname in files:
    img = Image.open(FILEPATH+'/125/'+fname)
    #img = img.convert('L')
    img = img.resize((224, 224),Image.ANTIALIAS)
    print(fname)
    img.save(FILEPATH+'/125/'+fname)
print('125 finish')

files = os.listdir(FILEPATH+'/126') #list file
for fname in files:
    img = Image.open(FILEPATH+'/126/'+fname)
    #img = img.convert('L')
    img = img.resize((224, 224),Image.ANTIALIAS)
    print(fname)
    img.save(FILEPATH+'/126/'+fname)
print('126 finish')

files = os.listdir(FILEPATH+'/127') #list file
for fname in files:
    img = Image.open(FILEPATH+'/127/'+fname)
    #img = img.convert('L')
    img = img.resize((224, 224),Image.ANTIALIAS)
    print(fname)
    img.save(FILEPATH+'/127/'+fname)
print('127 finish')

files = os.listdir(FILEPATH+'/128') #list file
for fname in files:
    img = Image.open(FILEPATH+'/128/'+fname)
    #img = img.convert('L')
    img = img.resize((224, 224),Image.ANTIALIAS)
    print(fname)
    img.save(FILEPATH+'/128/'+fname)
print('128 finish')

files = os.listdir(FILEPATH+'/129') #list file
for fname in files:
    img = Image.open(FILEPATH+'/129/'+fname)
    #img = img.convert('L')
    img = img.resize((224, 224),Image.ANTIALIAS)
    print(fname)
    img.save(FILEPATH+'/129/'+fname)
print('129 finish')

files = os.listdir(FILEPATH+'/130') #list file
for fname in files:
    img = Image.open(FILEPATH+'/130/'+fname)
    #img = img.convert('L')
    img = img.resize((224, 224),Image.ANTIALIAS)
    print(fname)
    img.save(FILEPATH+'/130/'+fname)
print('130 finish')

files = os.listdir(FILEPATH+'/131') #list file
for fname in files:
    img = Image.open(FILEPATH+'/131/'+fname)
    #img = img.convert('L')
    img = img.resize((224, 224),Image.ANTIALIAS)
    print(fname)
    img.save(FILEPATH+'/131/'+fname)
print('131 finish')


files = os.listdir(FILEPATH+'/132') #list file
for fname in files:
    img = Image.open(FILEPATH+'/132/'+fname)
    #img = img.convert('L')
    img = img.resize((224, 224),Image.ANTIALIAS)
    print(fname)
    img.save(FILEPATH+'/132/'+fname)
print('132 finish')

files = os.listdir(FILEPATH+'/133') #list file
for fname in files:
    img = Image.open(FILEPATH+'/133/'+fname)
    #img = img.convert('L')
    img = img.resize((224, 224),Image.ANTIALIAS)
    print(fname)
    img.save(FILEPATH+'/133/'+fname)
print('133 finish')

files = os.listdir(FILEPATH+'/114') #list file
for fname in files:
    img = Image.open(FILEPATH+'/114/'+fname)
    #img = img.convert('L')
    img = img.resize((224, 224),Image.ANTIALIAS)
    print(fname)
    img.save(FILEPATH+'/14/'+fname)
print('114 finish')


files = os.listdir(FILEPATH+'/115') #list file
for fname in files:
    img = Image.open(FILEPATH+'/115/'+fname)
    #img = img.convert('L')
    img = img.resize((224, 224),Image.ANTIALIAS)
    print(fname)
    img.save(FILEPATH+'/115/'+fname)
print('115 finish')

files = os.listdir(FILEPATH+'/116') #list file
for fname in files:
    img = Image.open(FILEPATH+'/116/'+fname)
    #img = img.convert('L')
    img = img.resize((224, 224),Image.ANTIALIAS)
    print(fname)
    img.save(FILEPATH+'/116/'+fname)
print('116 finish')

files = os.listdir(FILEPATH+'/117') #list file
for fname in files:
    img = Image.open(FILEPATH+'/117/'+fname)
    #img = img.convert('L')
    img = img.resize((224, 224),Image.ANTIALIAS)
    print(fname)
    img.save(FILEPATH+'/117/'+fname)
print('117 finish')

files = os.listdir(FILEPATH+'/118') #list file
for fname in files:
    img = Image.open(FILEPATH+'/118/'+fname)
    #img = img.convert('L')
    img = img.resize((224, 224),Image.ANTIALIAS)
    print(fname)
    img.save(FILEPATH+'/118/'+fname)
print('118 finish')


files = os.listdir(FILEPATH+'/119') #list file
for fname in files:
    img = Image.open(FILEPATH+'/119/'+fname)
    #img = img.convert('L')
    img = img.resize((224, 224),Image.ANTIALIAS)
    print(fname)
    img.save(FILEPATH+'/119/'+fname)
print('119 finish')

files = os.listdir(FILEPATH+'/120') #list file
for fname in files:
    img = Image.open(FILEPATH+'/120/'+fname)
    #img = img.convert('L')
    img = img.resize((224, 224),Image.ANTIALIAS)
    print(fname)
    img.save(FILEPATH+'/120/'+fname)
print('120 finish')

files = os.listdir(FILEPATH+'/121') #list file
for fname in files:
    img = Image.open(FILEPATH+'/121/'+fname)
    #img = img.convert('L')
    img = img.resize((224, 224),Image.ANTIALIAS)
    print(fname)
    img.save(FILEPATH+'/121/'+fname)
print('121 finish')

files = os.listdir(FILEPATH+'/122') #list file
for fname in files:
    img = Image.open(FILEPATH+'/122/'+fname)
    #img = img.convert('L')
    img = img.resize((224, 224),Image.ANTIALIAS)
    print(fname)
    img.save(FILEPATH+'/122/'+fname)
print('122 finish')

files = os.listdir(FILEPATH+'/23') #list file
for fname in files:
    img = Image.open(FILEPATH+'/23/'+fname)
    #img = img.convert('L')
    img = img.resize((224, 224),Image.ANTIALIAS)
    print(fname)
    img.save(FILEPATH+'/123/'+fname)
print('123 finish')

files = os.listdir(FILEPATH+'/124') #list file
for fname in files:
    img = Image.open(FILEPATH+'/124/'+fname)
    #img = img.convert('L')
    img = img.resize((224, 224),Image.ANTIALIAS)
    print(fname)
    img.save(FILEPATH+'/124/'+fname)
print('124 finish')

files = os.listdir(FILEPATH+'/125') #list file
for fname in files:
    img = Image.open(FILEPATH+'/125/'+fname)
    #img = img.convert('L')
    img = img.resize((224, 224),Image.ANTIALIAS)
    print(fname)
    img.save(FILEPATH+'/125/'+fname)
print('125 finish')

files = os.listdir(FILEPATH+'/126') #list file
for fname in files:
    img = Image.open(FILEPATH+'/126/'+fname)
    #img = img.convert('L')
    img = img.resize((224, 224),Image.ANTIALIAS)
    print(fname)
    img.save(FILEPATH+'/126/'+fname)
print('126 finish')

files = os.listdir(FILEPATH+'/127') #list file
for fname in files:
    img = Image.open(FILEPATH+'/127/'+fname)
    #img = img.convert('L')
    img = img.resize((224, 224),Image.ANTIALIAS)
    print(fname)
    img.save(FILEPATH+'/127/'+fname)
print('127 finish')

files = os.listdir(FILEPATH+'/128') #list file
for fname in files:
    img = Image.open(FILEPATH+'/128/'+fname)
    #img = img.convert('L')
    img = img.resize((224, 224),Image.ANTIALIAS)
    print(fname)
    img.save(FILEPATH+'/128/'+fname)
print('128 finish')

files = os.listdir(FILEPATH+'/129') #list file
for fname in files:
    img = Image.open(FILEPATH+'/129/'+fname)
    #img = img.convert('L')
    img = img.resize((224, 224),Image.ANTIALIAS)
    print(fname)
    img.save(FILEPATH+'/129/'+fname)
print('129 finish')

files = os.listdir(FILEPATH+'/130') #list file
for fname in files:
    img = Image.open(FILEPATH+'/130/'+fname)
    #img = img.convert('L')
    img = img.resize((224, 224),Image.ANTIALIAS)
    print(fname)
    img.save(FILEPATH+'/130/'+fname)
print('130 finish')

files = os.listdir(FILEPATH+'/131') #list file
for fname in files:
    img = Image.open(FILEPATH+'/131/'+fname)
    #img = img.convert('L')
    img = img.resize((224, 224),Image.ANTIALIAS)
    print(fname)
    img.save(FILEPATH+'/131/'+fname)
print('131 finish')


files = os.listdir(FILEPATH+'/132') #list file
for fname in files:
    img = Image.open(FILEPATH+'/132/'+fname)
    #img = img.convert('L')
    img = img.resize((224, 224),Image.ANTIALIAS)
    print(fname)
    img.save(FILEPATH+'/132/'+fname)
print('132 finish')

files = os.listdir(FILEPATH+'/133') #list file
for fname in files:
    img = Image.open(FILEPATH+'/133/'+fname)
    #img = img.convert('L')
    img = img.resize((224, 224),Image.ANTIALIAS)
    print(fname)
    img.save(FILEPATH+'/133/'+fname)
print('133 finish')

files = os.listdir(FILEPATH+'/134') #list file
for fname in files:
    img = Image.open(FILEPATH+'/134/'+fname)
    #img = img.convert('L')
    img = img.resize((224, 224),Image.ANTIALIAS)
    print(fname)
    img.save(FILEPATH+'/134/'+fname)
print('134 finish')


files = os.listdir(FILEPATH+'/135') #list file
for fname in files:
    img = Image.open(FILEPATH+'/135/'+fname)
    #img = img.convert('L')
    img = img.resize((224, 224),Image.ANTIALIAS)
    print(fname)
    img.save(FILEPATH+'/135/'+fname)
print('135 finish')

files = os.listdir(FILEPATH+'/136') #list file
for fname in files:
    img = Image.open(FILEPATH+'/136/'+fname)
    #img = img.convert('L')
    img = img.resize((224, 224),Image.ANTIALIAS)
    print(fname)
    img.save(FILEPATH+'/136/'+fname)
print('136 finish')

files = os.listdir(FILEPATH+'/137') #list file
for fname in files:
    img = Image.open(FILEPATH+'/137/'+fname)
    #img = img.convert('L')
    img = img.resize((224, 224),Image.ANTIALIAS)
    print(fname)
    img.save(FILEPATH+'/137/'+fname)
print('137 finish')

files = os.listdir(FILEPATH+'/138') #list file
for fname in files:
    img = Image.open(FILEPATH+'/138/'+fname)
    #img = img.convert('L')
    img = img.resize((224, 224),Image.ANTIALIAS)
    print(fname)
    img.save(FILEPATH+'/138/'+fname)
print('138 finish')


files = os.listdir(FILEPATH+'/139') #list file
for fname in files:
    img = Image.open(FILEPATH+'/139/'+fname)
    #img = img.convert('L')
    img = img.resize((224, 224),Image.ANTIALIAS)
    print(fname)
    img.save(FILEPATH+'/139/'+fname)
print('139 finish')

files = os.listdir(FILEPATH+'/140') #list file
for fname in files:
    img = Image.open(FILEPATH+'/140/'+fname)
    #img = img.convert('L')
    img = img.resize((224, 224),Image.ANTIALIAS)
    print(fname)
    img.save(FILEPATH+'/140/'+fname)
print('140 finish')


files = os.listdir(FILEPATH+'/141') #list file
for fname in files:
    img = Image.open(FILEPATH+'/141/'+fname)
    #img = img.convert('L')
    img = img.resize((224, 224),Image.ANTIALIAS)
    print(fname)
    img.save(FILEPATH+'/141/'+fname)
print('141 finish')

files = os.listdir(FILEPATH+'/142') #list file
for fname in files:
    img = Image.open(FILEPATH+'/142/'+fname)
    #img = img.convert('L')
    img = img.resize((224, 224),Image.ANTIALIAS)
    print(fname)
    img.save(FILEPATH+'/142/'+fname)
print('142 finish')

files = os.listdir(FILEPATH+'/143') #list file
for fname in files:
    img = Image.open(FILEPATH+'/143/'+fname)
    #img = img.convert('L')
    img = img.resize((224, 224),Image.ANTIALIAS)
    print(fname)
    img.save(FILEPATH+'/143/'+fname)
print('143 finish')

files = os.listdir(FILEPATH+'/144') #list file
for fname in files:
    img = Image.open(FILEPATH+'/144/'+fname)
    #img = img.convert('L')
    img = img.resize((224, 224),Image.ANTIALIAS)
    print(fname)
    img.save(FILEPATH+'/144/'+fname)
print('144 finish')

files = os.listdir(FILEPATH+'/145') #list file
for fname in files:
    img = Image.open(FILEPATH+'/145/'+fname)
    #img = img.convert('L')
    img = img.resize((224, 224),Image.ANTIALIAS)
    print(fname)
    img.save(FILEPATH+'/145/'+fname)
print('145 finish')

files = os.listdir(FILEPATH+'/146') #list file
for fname in files:
    img = Image.open(FILEPATH+'/146/'+fname)
    #img = img.convert('L')
    img = img.resize((224, 224),Image.ANTIALIAS)
    print(fname)
    img.save(FILEPATH+'/146/'+fname)
print('146 finish')

files = os.listdir(FILEPATH+'/147') #list file
for fname in files:
    img = Image.open(FILEPATH+'/147/'+fname)
    #img = img.convert('L')
    img = img.resize((224, 224),Image.ANTIALIAS)
    print(fname)
    img.save(FILEPATH+'/147/'+fname)
print('147 finish')

files = os.listdir(FILEPATH+'/148') #list file
for fname in files:
    img = Image.open(FILEPATH+'/148/'+fname)
    #img = img.convert('L')
    img = img.resize((224, 224),Image.ANTIALIAS)
    print(fname)
    img.save(FILEPATH+'/148/'+fname)
print('148 finish')

files = os.listdir(FILEPATH+'/149') #list file
for fname in files:
    img = Image.open(FILEPATH+'/149/'+fname)
    #img = img.convert('L')
    img = img.resize((224, 224),Image.ANTIALIAS)
    print(fname)
    img.save(FILEPATH+'/149/'+fname)
print('149 finish')

files = os.listdir(FILEPATH+'/150') #list file
for fname in files:
    img = Image.open(FILEPATH+'/150/'+fname)
    #img = img.convert('L')
    img = img.resize((224, 224),Image.ANTIALIAS)
    print(fname)
    img.save(FILEPATH+'/150/'+fname)
print('150 finish')

files = os.listdir(FILEPATH+'/151') #list file
for fname in files:
    img = Image.open(FILEPATH+'/151/'+fname)
    #img = img.convert('L')
    img = img.resize((224, 224),Image.ANTIALIAS)
    print(fname)
    img.save(FILEPATH+'/151/'+fname)
print('151 finish')


files = os.listdir(FILEPATH+'/152') #list file
for fname in files:
    img = Image.open(FILEPATH+'/152/'+fname)
    #img = img.convert('L')
    img = img.resize((224, 224),Image.ANTIALIAS)
    print(fname)
    img.save(FILEPATH+'/152/'+fname)
print('152 finish')

files = os.listdir(FILEPATH+'/153') #list file
for fname in files:
    img = Image.open(FILEPATH+'/153/'+fname)
    #img = img.convert('L')
    img = img.resize((224, 224),Image.ANTIALIAS)
    print(fname)
    img.save(FILEPATH+'/153/'+fname)
print('153 finish')

files = os.listdir(FILEPATH+'/154') #list file
for fname in files:
    img = Image.open(FILEPATH+'/154/'+fname)
    #img = img.convert('L')
    img = img.resize((224, 224),Image.ANTIALIAS)
    print(fname)
    img.save(FILEPATH+'/154/'+fname)
print('154 finish')


files = os.listdir(FILEPATH+'/155') #list file
for fname in files:
    img = Image.open(FILEPATH+'/155/'+fname)
    #img = img.convert('L')
    img = img.resize((224, 224),Image.ANTIALIAS)
    print(fname)
    img.save(FILEPATH+'/155/'+fname)
print('155 finish')

files = os.listdir(FILEPATH+'/156') #list file
for fname in files:
    img = Image.open(FILEPATH+'/156/'+fname)
    #img = img.convert('L')
    img = img.resize((224, 224),Image.ANTIALIAS)
    print(fname)
    img.save(FILEPATH+'/156/'+fname)
print('156 finish')

files = os.listdir(FILEPATH+'/157') #list file
for fname in files:
    img = Image.open(FILEPATH+'/157/'+fname)
    #img = img.convert('L')
    img = img.resize((224, 224),Image.ANTIALIAS)
    print(fname)
    img.save(FILEPATH+'/157/'+fname)
print('157 finish')

files = os.listdir(FILEPATH+'/158') #list file
for fname in files:
    img = Image.open(FILEPATH+'/158/'+fname)
    #img = img.convert('L')
    img = img.resize((224, 224),Image.ANTIALIAS)
    print(fname)
    img.save(FILEPATH+'/158/'+fname)
print('158 finish')


files = os.listdir(FILEPATH+'/159') #list file
for fname in files:
    img = Image.open(FILEPATH+'/159/'+fname)
    #img = img.convert('L')
    img = img.resize((224, 224),Image.ANTIALIAS)
    print(fname)
    img.save(FILEPATH+'/159/'+fname)
print('159 finish')

files = os.listdir(FILEPATH+'/160') #list file
for fname in files:
    img = Image.open(FILEPATH+'/160/'+fname)
    #img = img.convert('L')
    img = img.resize((224, 224),Image.ANTIALIAS)
    print(fname)
    img.save(FILEPATH+'/160/'+fname)
print('160 finish')



files = os.listdir(FILEPATH+'/161') #list file
for fname in files:
    img = Image.open(FILEPATH+'/161/'+fname)
    #img = img.convert('L')
    img = img.resize((224, 224),Image.ANTIALIAS)
    print(fname)
    img.save(FILEPATH+'/161/'+fname)
print('161 finish')

files = os.listdir(FILEPATH+'/162') #list file
for fname in files:
    img = Image.open(FILEPATH+'/162/'+fname)
    #img = img.convert('L')
    img = img.resize((224, 224),Image.ANTIALIAS)
    print(fname)
    img.save(FILEPATH+'/162/'+fname)
print('162 finish')

files = os.listdir(FILEPATH+'/163') #list file
for fname in files:
    img = Image.open(FILEPATH+'/163/'+fname)
    #img = img.convert('L')
    img = img.resize((224, 224),Image.ANTIALIAS)
    print(fname)
    img.save(FILEPATH+'/163/'+fname)
print('163 finish')

files = os.listdir(FILEPATH+'/164') #list file
for fname in files:
    img = Image.open(FILEPATH+'/164/'+fname)
    #img = img.convert('L')
    img = img.resize((224, 224),Image.ANTIALIAS)
    print(fname)
    img.save(FILEPATH+'/164/'+fname)
print('164 finish')

files = os.listdir(FILEPATH+'/165') #list file
for fname in files:
    img = Image.open(FILEPATH+'/165/'+fname)
    #img = img.convert('L')
    img = img.resize((224, 224),Image.ANTIALIAS)
    print(fname)
    img.save(FILEPATH+'/165/'+fname)
print('165 finish')

files = os.listdir(FILEPATH+'/166') #list file
for fname in files:
    img = Image.open(FILEPATH+'/166/'+fname)
    #img = img.convert('L')
    img = img.resize((224, 224),Image.ANTIALIAS)
    print(fname)
    img.save(FILEPATH+'/166/'+fname)
print('166 finish')

files = os.listdir(FILEPATH+'/167') #list file
for fname in files:
    img = Image.open(FILEPATH+'/167/'+fname)
    #img = img.convert('L')
    img = img.resize((224, 224),Image.ANTIALIAS)
    print(fname)
    img.save(FILEPATH+'/167/'+fname)
print('167 finish')

files = os.listdir(FILEPATH+'/168') #list file
for fname in files:
    img = Image.open(FILEPATH+'/168/'+fname)
    #img = img.convert('L')
    img = img.resize((224, 224),Image.ANTIALIAS)
    print(fname)
    img.save(FILEPATH+'/168/'+fname)
print('168 finish')

files = os.listdir(FILEPATH+'/169') #list file
for fname in files:
    img = Image.open(FILEPATH+'/169/'+fname)
    #img = img.convert('L')
    img = img.resize((224, 224),Image.ANTIALIAS)
    print(fname)
    img.save(FILEPATH+'/169/'+fname)
print('169 finish')

files = os.listdir(FILEPATH+'/170') #list file
for fname in files:
    img = Image.open(FILEPATH+'/170/'+fname)
    #img = img.convert('L')
    img = img.resize((224, 224),Image.ANTIALIAS)
    print(fname)
    img.save(FILEPATH+'/170/'+fname)
print('170 finish')

files = os.listdir(FILEPATH+'/171') #list file
for fname in files:
    img = Image.open(FILEPATH+'/171/'+fname)
    #img = img.convert('L')
    img = img.resize((224, 224),Image.ANTIALIAS)
    print(fname)
    img.save(FILEPATH+'/171/'+fname)
print('171 finish')


files = os.listdir(FILEPATH+'/172') #list file
for fname in files:
    img = Image.open(FILEPATH+'/172/'+fname)
    #img = img.convert('L')
    img = img.resize((224, 224),Image.ANTIALIAS)
    print(fname)
    img.save(FILEPATH+'/172/'+fname)
print('172 finish')

files = os.listdir(FILEPATH+'/173') #list file
for fname in files:
    img = Image.open(FILEPATH+'/173/'+fname)
    #img = img.convert('L')
    img = img.resize((224, 224),Image.ANTIALIAS)
    print(fname)
    img.save(FILEPATH+'/173/'+fname)
print('173 finish')

files = os.listdir(FILEPATH+'/174') #list file
for fname in files:
    img = Image.open(FILEPATH+'/174/'+fname)
    #img = img.convert('L')
    img = img.resize((224, 224),Image.ANTIALIAS)
    print(fname)
    img.save(FILEPATH+'/174/'+fname)
print('174 finish')


files = os.listdir(FILEPATH+'/175') #list file
for fname in files:
    img = Image.open(FILEPATH+'/175/'+fname)
    #img = img.convert('L')
    img = img.resize((224, 224),Image.ANTIALIAS)
    print(fname)
    img.save(FILEPATH+'/175/'+fname)
print('175 finish')
